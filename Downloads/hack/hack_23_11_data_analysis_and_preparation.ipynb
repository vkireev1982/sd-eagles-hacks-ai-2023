{
 "cells": [
  {
   "cell_type": "markdown",
   "id": "a606148a",
   "metadata": {},
   "source": [
    "# Исследование и обогащение данных"
   ]
  },
  {
   "cell_type": "code",
   "execution_count": 1,
   "id": "582b8158",
   "metadata": {},
   "outputs": [],
   "source": [
    "import os\n",
    "import pandas as pd\n",
    "import json\n",
    "import time\n",
    "from tqdm import tqdm\n",
    "import numpy as np\n",
    "import gurobipy\n",
    "\n",
    "from collections import defaultdict"
   ]
  },
  {
   "cell_type": "markdown",
   "id": "a320ea83",
   "metadata": {},
   "source": [
    "## Анализ уникальных операций для всех печей"
   ]
  },
  {
   "cell_type": "code",
   "execution_count": 31,
   "id": "966498da",
   "metadata": {},
   "outputs": [],
   "source": [
    "path = 'data/train/'\n",
    "fnames = sorted(list(filter(lambda x: x.split('.')[1] == 'json',os.listdir(path))))"
   ]
  },
  {
   "cell_type": "markdown",
   "id": "de7c8739",
   "metadata": {},
   "source": [
    "## Количество печей по дням"
   ]
  },
  {
   "cell_type": "code",
   "execution_count": 22,
   "id": "16801bbd",
   "metadata": {},
   "outputs": [],
   "source": [
    "ovens_qty = defaultdict()\n",
    "\n",
    "for fn in fnames:\n",
    "    full_fn = os.path.join(path, fn)\n",
    "    with open(full_fn, 'r') as f:\n",
    "        j = json.load(f)\n",
    "        ovens_qty[fn] = len(j['ovens'])"
   ]
  },
  {
   "cell_type": "code",
   "execution_count": 24,
   "id": "333b5315",
   "metadata": {},
   "outputs": [
    {
     "data": {
      "text/plain": [
       "dict_values([422, 467, 336, 296, 240, 271, 380, 413, 328, 290, 463, 348, 224, 490, 468, 215, 296, 209, 491, 310, 396, 230, 338, 266, 227, 378, 298, 255, 382, 402, 423, 478, 495, 214, 294, 204, 365, 436, 329, 424, 233, 378, 407, 495, 345, 393, 327, 229, 262, 339, 455, 369, 470, 240, 223, 307, 287, 383, 405, 318, 211, 266, 264, 258, 300, 221, 441, 336, 227, 227, 304, 470, 422, 313, 500, 488, 465, 456, 387, 498, 463, 301, 469, 354, 325, 246, 202, 278, 411, 482, 257, 260, 298, 379, 288, 492, 396, 461, 431, 265])"
      ]
     },
     "execution_count": 24,
     "metadata": {},
     "output_type": "execute_result"
    }
   ],
   "source": [
    "ovens_qty.values()"
   ]
  },
  {
   "cell_type": "code",
   "execution_count": 39,
   "id": "5685becb",
   "metadata": {},
   "outputs": [
    {
     "data": {
      "text/plain": [
       "347.68"
      ]
     },
     "execution_count": 39,
     "metadata": {},
     "output_type": "execute_result"
    }
   ],
   "source": [
    "pd.Series(ovens_qty.values()).mean()"
   ]
  },
  {
   "cell_type": "markdown",
   "id": "cea64454",
   "metadata": {},
   "source": [
    "## Количество серий по дням"
   ]
  },
  {
   "cell_type": "code",
   "execution_count": 25,
   "id": "00be2e5c",
   "metadata": {},
   "outputs": [],
   "source": [
    "series_qty = defaultdict()\n",
    "\n",
    "for fn in fnames:\n",
    "    full_fn = os.path.join(path, fn)\n",
    "    with open(full_fn, 'r') as f:\n",
    "        j = json.load(f)\n",
    "        series_qty[fn] = len(j['series'])"
   ]
  },
  {
   "cell_type": "code",
   "execution_count": 27,
   "id": "5a420e17",
   "metadata": {},
   "outputs": [
    {
     "data": {
      "text/plain": [
       "dict_values([2594, 1697, 1998, 2375, 2873, 2556, 1997, 2250, 1770, 1603, 2401, 2149, 2729, 2063, 1594, 1759, 1603, 1842, 2994, 1680, 2083, 2530, 1869, 1679, 2073, 1796, 1972, 1506, 2061, 2387, 2017, 1716, 1735, 1915, 2299, 2873, 1998, 2573, 2745, 2351, 1580, 1770, 2138, 2137, 1761, 2698, 2710, 2717, 2661, 1901, 1951, 1944, 1934, 1677, 2127, 1972, 2836, 1919, 1963, 2556, 2744, 2759, 2263, 2497, 1661, 1553, 2063, 2149, 1816, 1860, 1901, 2477, 2723, 2656, 1751, 1581, 2877, 1947, 2319, 2837, 1589, 2964, 1574, 2516, 1888, 1789, 1631, 1989, 2111, 2995, 1686, 2810, 1997, 1617, 1959, 2794, 2474, 2340, 1577, 2861])"
      ]
     },
     "execution_count": 27,
     "metadata": {},
     "output_type": "execute_result"
    }
   ],
   "source": [
    "series_qty.values()"
   ]
  },
  {
   "cell_type": "code",
   "execution_count": 38,
   "id": "a510bd0a",
   "metadata": {},
   "outputs": [
    {
     "data": {
      "text/plain": [
       "2152.52"
      ]
     },
     "execution_count": 38,
     "metadata": {},
     "output_type": "execute_result"
    }
   ],
   "source": [
    "pd.Series(series_qty.values()).mean()"
   ]
  },
  {
   "cell_type": "markdown",
   "id": "d6abf0c7",
   "metadata": {},
   "source": [
    "## Соотношение количества серий к количеству печей по дням"
   ]
  },
  {
   "cell_type": "code",
   "execution_count": 33,
   "id": "46020a3b",
   "metadata": {},
   "outputs": [],
   "source": [
    "series_ratio = defaultdict()\n",
    "\n",
    "for fn in ovens_qty:\n",
    "    series_ratio[fn] = round((series_qty[fn] / ovens_qty[fn]), 2)"
   ]
  },
  {
   "cell_type": "code",
   "execution_count": 34,
   "id": "14ecfbf3",
   "metadata": {},
   "outputs": [
    {
     "data": {
      "text/plain": [
       "dict_values([6.15, 3.63, 5.95, 8.02, 11.97, 9.43, 5.26, 5.45, 5.4, 5.53, 5.19, 6.18, 12.18, 4.21, 3.41, 8.18, 5.42, 8.81, 6.1, 5.42, 5.26, 11.0, 5.53, 6.31, 9.13, 4.75, 6.62, 5.91, 5.4, 5.94, 4.77, 3.59, 3.51, 8.95, 7.82, 14.08, 5.47, 5.9, 8.34, 5.54, 6.78, 4.68, 5.25, 4.32, 5.1, 6.87, 8.29, 11.86, 10.16, 5.61, 4.29, 5.27, 4.11, 6.99, 9.54, 6.42, 9.88, 5.01, 4.85, 8.04, 13.0, 10.37, 8.57, 9.68, 5.54, 7.03, 4.68, 6.4, 8.0, 8.19, 6.25, 5.27, 6.45, 8.49, 3.5, 3.24, 6.19, 4.27, 5.99, 5.7, 3.43, 9.85, 3.36, 7.11, 5.81, 7.27, 8.07, 7.15, 5.14, 6.21, 6.56, 10.81, 6.7, 4.27, 6.8, 5.68, 6.25, 5.08, 3.66, 10.8])"
      ]
     },
     "execution_count": 34,
     "metadata": {},
     "output_type": "execute_result"
    }
   ],
   "source": [
    "series_ratio.values()"
   ]
  },
  {
   "cell_type": "code",
   "execution_count": 40,
   "id": "25de4627",
   "metadata": {},
   "outputs": [
    {
     "data": {
      "text/plain": [
       "6.658499999999999"
      ]
     },
     "execution_count": 40,
     "metadata": {},
     "output_type": "execute_result"
    }
   ],
   "source": [
    "pd.Series(series_ratio.values()).mean()"
   ]
  },
  {
   "cell_type": "markdown",
   "id": "92512bae",
   "metadata": {},
   "source": [
    "## Уникальные значения по операциям на печах"
   ]
  },
  {
   "cell_type": "code",
   "execution_count": 41,
   "id": "dc32821d",
   "metadata": {},
   "outputs": [],
   "source": [
    "df_op = pd.DataFrame()"
   ]
  },
  {
   "cell_type": "code",
   "execution_count": 42,
   "id": "5e16db73",
   "metadata": {},
   "outputs": [
    {
     "data": {
      "text/html": [
       "<div>\n",
       "<style scoped>\n",
       "    .dataframe tbody tr th:only-of-type {\n",
       "        vertical-align: middle;\n",
       "    }\n",
       "\n",
       "    .dataframe tbody tr th {\n",
       "        vertical-align: top;\n",
       "    }\n",
       "\n",
       "    .dataframe thead th {\n",
       "        text-align: right;\n",
       "    }\n",
       "</style>\n",
       "<table border=\"1\" class=\"dataframe\">\n",
       "  <thead>\n",
       "    <tr style=\"text-align: right;\">\n",
       "      <th></th>\n",
       "      <th>start_temp</th>\n",
       "      <th>working_temps</th>\n",
       "      <th>operations</th>\n",
       "      <th>day</th>\n",
       "    </tr>\n",
       "  </thead>\n",
       "  <tbody>\n",
       "    <tr>\n",
       "      <th>0</th>\n",
       "      <td>1220</td>\n",
       "      <td>960</td>\n",
       "      <td>prokat</td>\n",
       "      <td>day-0</td>\n",
       "    </tr>\n",
       "    <tr>\n",
       "      <th>0</th>\n",
       "      <td>1220</td>\n",
       "      <td>1030</td>\n",
       "      <td>prokat</td>\n",
       "      <td>day-0</td>\n",
       "    </tr>\n",
       "    <tr>\n",
       "      <th>0</th>\n",
       "      <td>1220</td>\n",
       "      <td>1190</td>\n",
       "      <td>prokat</td>\n",
       "      <td>day-0</td>\n",
       "    </tr>\n",
       "    <tr>\n",
       "      <th>0</th>\n",
       "      <td>1220</td>\n",
       "      <td>1100</td>\n",
       "      <td>prokat</td>\n",
       "      <td>day-0</td>\n",
       "    </tr>\n",
       "    <tr>\n",
       "      <th>0</th>\n",
       "      <td>1220</td>\n",
       "      <td>1230</td>\n",
       "      <td>prokat</td>\n",
       "      <td>day-0</td>\n",
       "    </tr>\n",
       "    <tr>\n",
       "      <th>...</th>\n",
       "      <td>...</td>\n",
       "      <td>...</td>\n",
       "      <td>...</td>\n",
       "      <td>...</td>\n",
       "    </tr>\n",
       "    <tr>\n",
       "      <th>264</th>\n",
       "      <td>1190</td>\n",
       "      <td>1120</td>\n",
       "      <td>otzhig</td>\n",
       "      <td>day-99</td>\n",
       "    </tr>\n",
       "    <tr>\n",
       "      <th>264</th>\n",
       "      <td>1190</td>\n",
       "      <td>1000</td>\n",
       "      <td>otzhig</td>\n",
       "      <td>day-99</td>\n",
       "    </tr>\n",
       "    <tr>\n",
       "      <th>264</th>\n",
       "      <td>1190</td>\n",
       "      <td>1040</td>\n",
       "      <td>otzhig</td>\n",
       "      <td>day-99</td>\n",
       "    </tr>\n",
       "    <tr>\n",
       "      <th>264</th>\n",
       "      <td>1190</td>\n",
       "      <td>1210</td>\n",
       "      <td>otzhig</td>\n",
       "      <td>day-99</td>\n",
       "    </tr>\n",
       "    <tr>\n",
       "      <th>264</th>\n",
       "      <td>1190</td>\n",
       "      <td>1190</td>\n",
       "      <td>otzhig</td>\n",
       "      <td>day-99</td>\n",
       "    </tr>\n",
       "  </tbody>\n",
       "</table>\n",
       "<p>346927 rows × 4 columns</p>\n",
       "</div>"
      ],
      "text/plain": [
       "     start_temp working_temps operations     day\n",
       "0          1220           960     prokat   day-0\n",
       "0          1220          1030     prokat   day-0\n",
       "0          1220          1190     prokat   day-0\n",
       "0          1220          1100     prokat   day-0\n",
       "0          1220          1230     prokat   day-0\n",
       "..          ...           ...        ...     ...\n",
       "264        1190          1120     otzhig  day-99\n",
       "264        1190          1000     otzhig  day-99\n",
       "264        1190          1040     otzhig  day-99\n",
       "264        1190          1210     otzhig  day-99\n",
       "264        1190          1190     otzhig  day-99\n",
       "\n",
       "[346927 rows x 4 columns]"
      ]
     },
     "execution_count": 42,
     "metadata": {},
     "output_type": "execute_result"
    }
   ],
   "source": [
    "for fn in fnames:\n",
    "    full_fn = os.path.join(path,fn)\n",
    "    with open(full_fn, 'r') as f:\n",
    "        j = json.load(f)\n",
    "    df_op = pd.concat([df_op, pd.json_normalize(j['ovens']).\\\n",
    "        assign(day=fn.split('.')[0]).\\\n",
    "        explode(column = 'operations').\\\n",
    "        explode(column = 'working_temps')])\n",
    "df_op"
   ]
  },
  {
   "cell_type": "code",
   "execution_count": 43,
   "id": "0b709254",
   "metadata": {},
   "outputs": [
    {
     "data": {
      "text/plain": [
       "array(['prokat', 'kovka', 'otzhig'], dtype=object)"
      ]
     },
     "execution_count": 43,
     "metadata": {},
     "output_type": "execute_result"
    }
   ],
   "source": [
    "df['operations'].unique()"
   ]
  },
  {
   "cell_type": "markdown",
   "id": "9483bd2e",
   "metadata": {},
   "source": [
    "## Уникальные значения по операциям в сериях"
   ]
  },
  {
   "cell_type": "code",
   "execution_count": 58,
   "id": "3fb68b9a",
   "metadata": {},
   "outputs": [],
   "source": [
    "series_set = set()"
   ]
  },
  {
   "cell_type": "code",
   "execution_count": 59,
   "id": "844bd626",
   "metadata": {},
   "outputs": [],
   "source": [
    "for fn in fnames:\n",
    "    full_fn = os.path.join(path,fn)\n",
    "    with open(full_fn, 'r') as f:\n",
    "        j = json.load(f)\n",
    "        for series in j['series']:\n",
    "            for op in series['operations']:\n",
    "                series_set.add(op['name'])\n"
   ]
  },
  {
   "cell_type": "code",
   "execution_count": 60,
   "id": "8a4a5289",
   "metadata": {},
   "outputs": [
    {
     "data": {
      "text/plain": [
       "{'kovka', 'nagrev', 'otzhig', 'prokat'}"
      ]
     },
     "execution_count": 60,
     "metadata": {},
     "output_type": "execute_result"
    }
   ],
   "source": [
    "series_set"
   ]
  },
  {
   "cell_type": "markdown",
   "id": "afdf37e5",
   "metadata": {},
   "source": [
    "## Проверка гипотезы"
   ]
  },
  {
   "cell_type": "markdown",
   "id": "76a910c6",
   "metadata": {},
   "source": [
    "**Гипотеза:** каждая из запланированных серий начинается с операции ***nagrev*** "
   ]
  },
  {
   "cell_type": "code",
   "execution_count": 43,
   "id": "8c94e883",
   "metadata": {
    "scrolled": false
   },
   "outputs": [
    {
     "name": "stderr",
     "output_type": "stream",
     "text": [
      "100%|███████████████████████████████████████████████████████████| 100/100 [01:41<00:00,  1.02s/it]"
     ]
    },
    {
     "name": "stdout",
     "output_type": "stream",
     "text": [
      "No exception\n"
     ]
    },
    {
     "name": "stderr",
     "output_type": "stream",
     "text": [
      "\n"
     ]
    }
   ],
   "source": [
    "exception_list = []\n",
    "\n",
    "for fn in tqdm(fnames):\n",
    "    time.sleep(1)\n",
    "    full_fn = os.path.join(path,fn)\n",
    "    with open(full_fn, 'r') as f:\n",
    "        j = json.load(f)\n",
    "        for idx, ser in enumerate(j['series']):\n",
    "            if ser['operations'][0]['name'] != 'nagrev':\n",
    "                exception_list.append((fn, idx))\n",
    "\n",
    "if exception_list:\n",
    "    print(exception_list)\n",
    "else:\n",
    "    print('No exception')"
   ]
  },
  {
   "cell_type": "markdown",
   "id": "52f1fa49",
   "metadata": {},
   "source": [
    "## Обогащение данных"
   ]
  },
  {
   "cell_type": "markdown",
   "id": "32bb7f7a",
   "metadata": {},
   "source": [
    "### Ovens enrichment test"
   ]
  },
  {
   "cell_type": "code",
   "execution_count": 91,
   "id": "2d9aa089",
   "metadata": {},
   "outputs": [],
   "source": [
    "test_dict = {\n",
    "    \"ovens\": [\n",
    "        {\n",
    "            \"start_temp\": 1220,\n",
    "            \"working_temps\": [\n",
    "                960,\n",
    "                1030,\n",
    "                1190,\n",
    "                1100,\n",
    "                1230,\n",
    "                1070,\n",
    "                1110,\n",
    "                1080,\n",
    "                1240,\n",
    "                1220\n",
    "            ],\n",
    "            \"operations\": [\n",
    "                \"prokat\",\n",
    "                \"kovka\"\n",
    "            ]\n",
    "        },\n",
    "        {\n",
    "            \"start_temp\": 990,\n",
    "            \"working_temps\": [\n",
    "                980,\n",
    "                1190,\n",
    "                1030,\n",
    "                1100,\n",
    "                990\n",
    "            ],\n",
    "            \"operations\": [\n",
    "                \"otzhig\",\n",
    "                \"kovka\"\n",
    "            ]\n",
    "        },\n",
    "        {\n",
    "            \"start_temp\": 1220,\n",
    "            \"working_temps\": [\n",
    "                970,\n",
    "                1060,\n",
    "                1220\n",
    "            ],\n",
    "            \"operations\": [\n",
    "                \"otzhig\"\n",
    "            ]\n",
    "        }\n",
    "    ]\n",
    "}"
   ]
  },
  {
   "cell_type": "code",
   "execution_count": 92,
   "id": "4c411d4e",
   "metadata": {},
   "outputs": [],
   "source": [
    "for oven in test_dict['ovens']:\n",
    "    oven['operations'].append('nagrev')"
   ]
  },
  {
   "cell_type": "markdown",
   "id": "0b111582",
   "metadata": {},
   "source": [
    "### Operation enrichment test"
   ]
  },
  {
   "cell_type": "code",
   "execution_count": 93,
   "id": "28e3bdeb",
   "metadata": {},
   "outputs": [],
   "source": [
    "test_list = [\n",
    "                {\n",
    "                    \"name\": \"nagrev\",\n",
    "                    \"timing\": 296\n",
    "                },\n",
    "                {\n",
    "                    \"name\": \"kovka\",\n",
    "                    \"timing\": 10\n",
    "                },\n",
    "                {\n",
    "                    \"name\": \"kovka\",\n",
    "                    \"timing\": 10\n",
    "                },\n",
    "                {\n",
    "                    \"name\": \"prokat\",\n",
    "                    \"timing\": 10\n",
    "                }\n",
    "            ]"
   ]
  },
  {
   "cell_type": "code",
   "execution_count": 94,
   "id": "2e46d141",
   "metadata": {},
   "outputs": [],
   "source": [
    "enriched_list = []"
   ]
  },
  {
   "cell_type": "code",
   "execution_count": 55,
   "id": "a76068eb",
   "metadata": {},
   "outputs": [],
   "source": [
    "for i in range(1, len(test_list)):\n",
    "    enriched_list.append(test_list[i - 1])\n",
    "    if (test_list[i]['name'] == 'kovka' or test_list[i]['name'] == 'prokat') and test_list[i - 1]['name'] != 'nagrev':\n",
    "        enriched_list.append(\n",
    "            {\n",
    "                \"name\": \"nagrev\",\n",
    "                \"timing\": 120\n",
    "            }\n",
    "        )\n",
    "    if i == len(test_list) - 1:\n",
    "        enriched_list.append(test_list[i])"
   ]
  },
  {
   "cell_type": "code",
   "execution_count": 56,
   "id": "b0140857",
   "metadata": {},
   "outputs": [
    {
     "data": {
      "text/plain": [
       "[{'name': 'nagrev', 'timing': 296},\n",
       " {'name': 'kovka', 'timing': 10},\n",
       " {'name': 'nagrev', 'timing': 120},\n",
       " {'name': 'kovka', 'timing': 10},\n",
       " {'name': 'nagrev', 'timing': 120},\n",
       " {'name': 'prokat', 'timing': 10}]"
      ]
     },
     "execution_count": 56,
     "metadata": {},
     "output_type": "execute_result"
    }
   ],
   "source": [
    "enriched_list"
   ]
  },
  {
   "cell_type": "markdown",
   "id": "e40fd959",
   "metadata": {},
   "source": [
    "### Ovens and Operation enrichment"
   ]
  },
  {
   "cell_type": "code",
   "execution_count": 89,
   "id": "dd4987df",
   "metadata": {},
   "outputs": [
    {
     "name": "stderr",
     "output_type": "stream",
     "text": [
      "100%|███████████████████████████████████████████████████████████| 100/100 [00:04<00:00, 21.22it/s]\n"
     ]
    }
   ],
   "source": [
    "enriched_path = 'data/enriched_train/'\n",
    "\n",
    "for fn in tqdm(fnames):\n",
    "    full_fn = os.path.join(path,fn)\n",
    "    with open(full_fn, 'r') as f:\n",
    "        j = json.load(f)\n",
    "        \n",
    "        for idx, oven in enumerate(j['ovens']):\n",
    "            j['ovens'][idx]['operations'].append('nagrev')\n",
    "        \n",
    "        for idx, series in enumerate(j['series']):\n",
    "            enriched_list = []\n",
    "            for k in range(1, len(series['operations'])):\n",
    "                enriched_list.append(series['operations'][k - 1])\n",
    "                if (\n",
    "                    series['operations'][k]['name'] == 'kovka' or series['operations'][k]['name'] == 'prokat'\n",
    "                ) and series['operations'][k - 1]['name'] != 'nagrev':\n",
    "                    enriched_list.append(\n",
    "                        {\n",
    "                            \"name\": \"nagrev\",\n",
    "                            \"timing\": 120\n",
    "                        }\n",
    "                    )\n",
    "                if k == len(series['operations']) - 1:\n",
    "                    enriched_list.append(series['operations'][k])\n",
    "                    \n",
    "            j['series'][idx]['operations'] = enriched_list\n",
    "        \n",
    "        with open(enriched_path + 'enriched_' + fn, 'w') as json_file:\n",
    "            json.dump(j, json_file, indent=4) "
   ]
  },
  {
   "cell_type": "code",
   "execution_count": null,
   "id": "1f22c33a",
   "metadata": {},
   "outputs": [],
   "source": []
  },
  {
   "cell_type": "code",
   "execution_count": null,
   "id": "fc25007c",
   "metadata": {},
   "outputs": [],
   "source": []
  },
  {
   "cell_type": "code",
   "execution_count": null,
   "id": "e6b02a86",
   "metadata": {},
   "outputs": [],
   "source": []
  }
 ],
 "metadata": {
  "kernelspec": {
   "display_name": "hack_23-11",
   "language": "python",
   "name": "hack_23-11"
  },
  "language_info": {
   "codemirror_mode": {
    "name": "ipython",
    "version": 3
   },
   "file_extension": ".py",
   "mimetype": "text/x-python",
   "name": "python",
   "nbconvert_exporter": "python",
   "pygments_lexer": "ipython3",
   "version": "3.9.18"
  }
 },
 "nbformat": 4,
 "nbformat_minor": 5
}
